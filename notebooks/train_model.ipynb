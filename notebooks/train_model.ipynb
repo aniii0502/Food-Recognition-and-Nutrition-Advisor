{
 "cells": [
  {
   "cell_type": "code",
   "execution_count": null,
   "id": "6c5ca706",
   "metadata": {},
   "outputs": [],
   "source": [
    "import os\n",
    "import json\n",
    "import tensorflow as tf\n",
    "from tensorflow.keras.models import Sequential\n",
    "from tensorflow.keras.layers import Conv2D, MaxPooling2D, Flatten, Dense, Dropout\n",
    "import matplotlib.pyplot as plt"
   ]
  },
  {
   "cell_type": "code",
   "execution_count": null,
   "id": "38f1e830",
   "metadata": {},
   "outputs": [],
   "source": [
    "IMAGE_SIZE = (100, 100)\n",
    "BATCH_SIZE = 32\n",
    "EPOCHS = 10\n",
    "AUTOTUNE = tf.data.AUTOTUNE\n",
    "TRAIN_DIR = \"../dataset/Training\"\n",
    "TEST_DIR = \"../dataset/Test\"\n",
    "MODEL_SAVE_PATH = \"../model/food_classifier.h5\"\n",
    "CLASS_INDEX_PATH = \"../model/class_indices.json\""
   ]
  },
  {
   "cell_type": "code",
   "execution_count": null,
   "id": "e4e5ff0b",
   "metadata": {},
   "outputs": [],
   "source": [
    "def preprocess(image, label):\n",
    "    image = tf.cast(image, tf.float32) / 255.0  # normalize to [0, 1]\n",
    "    return image, label"
   ]
  },
  {
   "cell_type": "code",
   "execution_count": null,
   "id": "cc10ead0",
   "metadata": {},
   "outputs": [],
   "source": [
    "def load_dataset(data_dir, shuffle=True, cache_name=None):\n",
    "    dataset = tf.keras.utils.image_dataset_from_directory(\n",
    "        data_dir,\n",
    "        image_size=IMAGE_SIZE,\n",
    "        batch_size=BATCH_SIZE,\n",
    "        label_mode=\"categorical\",\n",
    "        shuffle=shuffle,\n",
    "        seed=42\n",
    "    )\n",
    "\n",
    "    class_names = dataset.class_names\n",
    "    print(f\"Loaded {len(class_names)} classes from {data_dir}\")\n",
    "\n",
    "    dataset = (\n",
    "        dataset\n",
    "        .map(preprocess, num_parallel_calls=AUTOTUNE)\n",
    "        .cache(cache_name)\n",
    "        .shuffle(1000) if shuffle else dataset\n",
    "    )\n",
    "    return dataset.prefetch(AUTOTUNE), class_names"
   ]
  },
  {
   "cell_type": "code",
   "execution_count": null,
   "id": "e0646f96",
   "metadata": {},
   "outputs": [],
   "source": [
    "cache_dir = \"../cache\"\n",
    "if not os.path.exists(cache_dir):\n",
    "    os.makedirs(cache_dir)"
   ]
  },
  {
   "cell_type": "code",
   "execution_count": null,
   "id": "08b9513d",
   "metadata": {},
   "outputs": [],
   "source": [
    "print(\"Loading datasets...\")\n",
    "train_ds, class_names = load_dataset(TRAIN_DIR, cache_name=\"../cache/train_cache\")\n",
    "val_ds, _ = load_dataset(TEST_DIR, shuffle=False, cache_name=\"../cache/val_cache\")"
   ]
  },
  {
   "cell_type": "code",
   "execution_count": null,
   "id": "ba70c3bd",
   "metadata": {},
   "outputs": [],
   "source": [
    "os.makedirs(\"model\", exist_ok=True)\n",
    "class_indices = {name: i for i, name in enumerate(class_names)}\n",
    "with open(CLASS_INDEX_PATH, \"w\") as f:\n",
    "    json.dump(class_indices, f)"
   ]
  },
  {
   "cell_type": "code",
   "execution_count": null,
   "id": "54af88de",
   "metadata": {},
   "outputs": [],
   "source": [
    "model = Sequential([\n",
    "    Conv2D(32, (3, 3), activation='relu', input_shape=(*IMAGE_SIZE, 3)),\n",
    "    MaxPooling2D(2, 2),\n",
    "    Conv2D(64, (3, 3), activation='relu'),\n",
    "    MaxPooling2D(2, 2),\n",
    "    Flatten(),\n",
    "    Dense(128, activation='relu'),\n",
    "    Dropout(0.3),\n",
    "    Dense(len(class_names), activation='softmax')\n",
    "])"
   ]
  },
  {
   "cell_type": "code",
   "execution_count": null,
   "id": "fdc36e1a",
   "metadata": {},
   "outputs": [],
   "source": [
    "model.compile(optimizer='adam', loss='categorical_crossentropy', metrics=['accuracy'])"
   ]
  },
  {
   "cell_type": "code",
   "execution_count": null,
   "id": "b15ef38d",
   "metadata": {},
   "outputs": [],
   "source": [
    "print(\"Training model...\")\n",
    "history = model.fit(train_ds, validation_data=val_ds, epochs=EPOCHS)"
   ]
  },
  {
   "cell_type": "code",
   "execution_count": null,
   "id": "46904d43",
   "metadata": {},
   "outputs": [],
   "source": [
    "model.save(MODEL_SAVE_PATH)\n",
    "print(f\"Model saved to {MODEL_SAVE_PATH}\")"
   ]
  },
  {
   "cell_type": "code",
   "execution_count": null,
   "id": "e2c67734",
   "metadata": {},
   "outputs": [],
   "source": [
    "def plot_training(history):\n",
    "    plt.figure(figsize=(12, 4))\n",
    "    plt.subplot(1, 2, 1)\n",
    "    plt.plot(history.history[\"accuracy\"], label=\"Train Acc\")\n",
    "    plt.plot(history.history[\"val_accuracy\"], label=\"Val Acc\")\n",
    "    plt.title(\"Accuracy\")\n",
    "    plt.legend()\n",
    "    plt.grid(True)\n",
    "\n",
    "    plt.subplot(1, 2, 2)\n",
    "    plt.plot(history.history[\"loss\"], label=\"Train Loss\")\n",
    "    plt.plot(history.history[\"val_loss\"], label=\"Val Loss\")\n",
    "    plt.title(\"Loss\")\n",
    "    plt.legend()\n",
    "    plt.grid(True)\n",
    "\n",
    "    plt.tight_layout()\n",
    "    plt.savefig(\"../model/training_plot.png\")\n",
    "    plt.show()\n",
    "\n",
    "plot_training(history)\n"
   ]
  }
 ],
 "metadata": {
  "kernelspec": {
   "display_name": "Python 3",
   "language": "python",
   "name": "python3"
  },
  "language_info": {
   "codemirror_mode": {
    "name": "ipython",
    "version": 3
   },
   "file_extension": ".py",
   "mimetype": "text/x-python",
   "name": "python",
   "nbconvert_exporter": "python",
   "pygments_lexer": "ipython3",
   "version": "3.11.0"
  }
 },
 "nbformat": 4,
 "nbformat_minor": 5
}
